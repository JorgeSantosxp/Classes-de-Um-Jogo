{
  "nbformat": 4,
  "nbformat_minor": 0,
  "metadata": {
    "colab": {
      "provenance": [],
      "toc_visible": true,
      "authorship_tag": "ABX9TyM//chNvgoPyOS0gEiP/pli",
      "include_colab_link": true
    },
    "kernelspec": {
      "name": "python3",
      "display_name": "Python 3"
    },
    "language_info": {
      "name": "python"
    }
  },
  "cells": [
    {
      "cell_type": "markdown",
      "metadata": {
        "id": "view-in-github",
        "colab_type": "text"
      },
      "source": [
        "<a href=\"https://colab.research.google.com/github/JorgeSantosxp/Classes-de-Um-Jogo/blob/main/Desafio_DIO_PAI_com_Flask.ipynb\" target=\"_parent\"><img src=\"https://colab.research.google.com/assets/colab-badge.svg\" alt=\"Open In Colab\"/></a>"
      ]
    },
    {
      "cell_type": "code",
      "execution_count": 1,
      "metadata": {
        "colab": {
          "base_uri": "https://localhost:8080/"
        },
        "id": "GlPYn5YEgQ3F",
        "outputId": "3e37f80c-0296-49c8-831c-2e00bbc1e58b"
      },
      "outputs": [
        {
          "output_type": "stream",
          "name": "stdout",
          "text": [
            "Requirement already satisfied: flask in /usr/local/lib/python3.10/dist-packages (2.2.5)\n",
            "Requirement already satisfied: Werkzeug>=2.2.2 in /usr/local/lib/python3.10/dist-packages (from flask) (3.0.3)\n",
            "Requirement already satisfied: Jinja2>=3.0 in /usr/local/lib/python3.10/dist-packages (from flask) (3.1.4)\n",
            "Requirement already satisfied: itsdangerous>=2.0 in /usr/local/lib/python3.10/dist-packages (from flask) (2.2.0)\n",
            "Requirement already satisfied: click>=8.0 in /usr/local/lib/python3.10/dist-packages (from flask) (8.1.7)\n",
            "Requirement already satisfied: MarkupSafe>=2.0 in /usr/local/lib/python3.10/dist-packages (from Jinja2>=3.0->flask) (2.1.5)\n"
          ]
        }
      ],
      "source": [
        "!pip install flask"
      ]
    },
    {
      "cell_type": "code",
      "source": [
        "from flask import Flask, jsonify\n",
        "import pandas as pd\n",
        "\n",
        "app = Flask(__name__)\n",
        "\n",
        "# Rota para exibir os dados da planilha em formato JSON\n",
        "@app.route('/dados_json')\n",
        "def dados_json():\n",
        "    df = pd.DataFrame([\n",
        "        {\"Number\": 1, \"Name\": \"Mahesh\", \"Age\": 25, \"City\": \"Bangalore\", \"Country\": \"India\"},\n",
        "        {\"Number\": 2, \"Name\": \"Alex\", \"Age\": 26, \"City\": \"London\", \"Country\": \"UK\"},\n",
        "        {\"Number\": 3, \"Name\": \"David\", \"Age\": 27, \"City\": \"San Francisco\", \"Country\": \"USA\"},\n",
        "        {\"Number\": 4, \"Name\": \"John\", \"Age\": 28, \"City\": \"Toronto\", \"Country\": \"Canada\"},\n",
        "        {\"Number\": 5, \"Name\": \"Chris\", \"Age\": 29, \"City\": \"Paris\", \"Country\": \"France\"}\n",
        "    ])\n",
        "\n",
        "    data = df.to_dict(orient='records')\n",
        "\n",
        "    return jsonify(data)\n",
        "\n",
        "# Rota padrão para a página inicial\n",
        "@app.route('/')\n",
        "def index():\n",
        "    return 'API Flask para apresentar os dados em JSON - Acesse /dados_json para ver os dados'\n",
        "\n",
        "if __name__ == '__main__':\n",
        "    app.run(host='0.0.0.0', port=5000)"
      ],
      "metadata": {
        "colab": {
          "base_uri": "https://localhost:8080/"
        },
        "id": "DS7Injm1ghMe",
        "outputId": "01ce718b-adf4-4320-e60b-5d5036f754aa"
      },
      "execution_count": 3,
      "outputs": [
        {
          "output_type": "stream",
          "name": "stdout",
          "text": [
            " * Serving Flask app '__main__'\n",
            " * Debug mode: off\n"
          ]
        },
        {
          "output_type": "stream",
          "name": "stderr",
          "text": [
            "INFO:werkzeug:\u001b[31m\u001b[1mWARNING: This is a development server. Do not use it in a production deployment. Use a production WSGI server instead.\u001b[0m\n",
            " * Running on all addresses (0.0.0.0)\n",
            " * Running on http://127.0.0.1:5000\n",
            " * Running on http://172.28.0.12:5000\n",
            "INFO:werkzeug:\u001b[33mPress CTRL+C to quit\u001b[0m\n"
          ]
        }
      ]
    }
  ]
}